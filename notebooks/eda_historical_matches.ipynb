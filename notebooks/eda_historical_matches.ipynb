{
 "cells": [
  {
   "cell_type": "code",
   "execution_count": null,
   "id": "0",
   "metadata": {},
   "outputs": [],
   "source": [
    "from pathlib import Path\n",
    "import json\n",
    "import pandas as pd\n",
    "\n",
    "candidates = [\n",
    "    Path.cwd(),\n",
    "    Path.cwd().parent,\n",
    "]\n",
    "data_path = None\n",
    "for base in candidates:\n",
    "    p = (base / \"data\" / \"raw\" / \"matches_raw.json\").resolve()\n",
    "    if p.exists():\n",
    "        data_path = p\n",
    "        break\n",
    "\n",
    "if not data_path:\n",
    "    raise FileNotFoundError(\"Missing data file: data/raw/matches_raw.json (searched CWD and parent)\")\n",
    "\n",
    "try:\n",
    "    with data_path.open(encoding=\"utf-8\") as f:\n",
    "        matches = json.load(f)\n",
    "except json.JSONDecodeError as e:\n",
    "    raise ValueError(f\"Invalid JSON in {data_path}: {e}\") from e\n",
    "\n",
    "df = pd.DataFrame(matches)\n",
    "df.describe()"
   ]
  }
 ],
 "metadata": {
  "kernelspec": {
   "display_name": "venv",
   "language": "python",
   "name": "python3"
  },
  "language_info": {
   "codemirror_mode": {
    "name": "ipython",
    "version": 3
   },
   "file_extension": ".py",
   "mimetype": "text/x-python",
   "name": "python",
   "nbconvert_exporter": "python",
   "pygments_lexer": "ipython3",
   "version": "3.13.3"
  }
 },
 "nbformat": 4,
 "nbformat_minor": 5
}
