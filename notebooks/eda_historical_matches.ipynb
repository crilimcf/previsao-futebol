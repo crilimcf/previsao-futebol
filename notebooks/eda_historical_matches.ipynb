{
 "cells": [
  {
   "cell_type": "code",
   "execution_count": null,
   "id": "0",
   "metadata": {},
   "outputs": [],
   "source": [
    "from pathlib import Path\n",
    "import json\n",
    "import pandas as pd\n",
    "\n",
    "project_root = Path.cwd().resolve().parents[0]  # adjust if you run this from repo root\n",
    "data_path = project_root / \"data\" / \"raw\" / \"matches_raw.json\"\n",
    "\n",
    "if not data_path.exists():\n",
    "    raise FileNotFoundError(f\"Missing data file: {data_path}\")\n",
    "\n",
    "with data_path.open(encoding=\"utf-8\") as f:\n",
    "    matches = json.load(f)\n",
    "\n",
    "df = pd.DataFrame(matches)\n",
    "df.describe()"
   ]
  }
 ],
 "metadata": {
  "kernelspec": {
   "display_name": "venv",
   "language": "python",
   "name": "python3"
  },
  "language_info": {
   "codemirror_mode": {
    "name": "ipython",
    "version": 3
   },
   "file_extension": ".py",
   "mimetype": "text/x-python",
   "name": "python",
   "nbconvert_exporter": "python",
   "pygments_lexer": "ipython3",
   "version": "3.13.3"
  }
 },
 "nbformat": 4,
 "nbformat_minor": 5
}
